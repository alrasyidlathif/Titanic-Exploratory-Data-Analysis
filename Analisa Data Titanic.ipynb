{
 "cells": [
  {
   "cell_type": "markdown",
   "metadata": {
    "_cell_guid": "e58a3f06-4c2a-4b87-90de-f8b09039fd4e",
    "_uuid": "46f0b12d7bf66712642e9a9b807f5ef398426b83"
   },
   "source": [
    "### Hal-hal yang akan dianalisa:\n",
    "#### 1. Bagaimana pengaruh banyaknya kerabat terhadap keselamatan?\n",
    "#### 2. Bagaimana pengaruh usia terhadap keselamatan?\n",
    "#### 3. Bagaimana pengaruh jenis kelamin terhadap keselamatan?\n",
    "#### 4. Bagaimana pengaruh kelas tiket 1 (vvip), 2 (vip), dan 3 (ekonomi) terhadap keselamatan?"
   ]
  },
  {
   "cell_type": "markdown",
   "metadata": {},
   "source": [
    "### Pre-processing data"
   ]
  },
  {
   "cell_type": "code",
   "execution_count": 1,
   "metadata": {},
   "outputs": [
    {
     "data": {
      "text/html": [
       "<div>\n",
       "<style scoped>\n",
       "    .dataframe tbody tr th:only-of-type {\n",
       "        vertical-align: middle;\n",
       "    }\n",
       "\n",
       "    .dataframe tbody tr th {\n",
       "        vertical-align: top;\n",
       "    }\n",
       "\n",
       "    .dataframe thead th {\n",
       "        text-align: right;\n",
       "    }\n",
       "</style>\n",
       "<table border=\"1\" class=\"dataframe\">\n",
       "  <thead>\n",
       "    <tr style=\"text-align: right;\">\n",
       "      <th></th>\n",
       "      <th>PassengerId</th>\n",
       "      <th>Survived</th>\n",
       "      <th>Pclass</th>\n",
       "      <th>Name</th>\n",
       "      <th>Sex</th>\n",
       "      <th>Age</th>\n",
       "      <th>SibSp</th>\n",
       "      <th>Parch</th>\n",
       "      <th>Ticket</th>\n",
       "      <th>Fare</th>\n",
       "      <th>Cabin</th>\n",
       "      <th>Embarked</th>\n",
       "    </tr>\n",
       "  </thead>\n",
       "  <tbody>\n",
       "    <tr>\n",
       "      <th>0</th>\n",
       "      <td>1</td>\n",
       "      <td>0</td>\n",
       "      <td>3</td>\n",
       "      <td>Braund, Mr. Owen Harris</td>\n",
       "      <td>male</td>\n",
       "      <td>22.0</td>\n",
       "      <td>1</td>\n",
       "      <td>0</td>\n",
       "      <td>A/5 21171</td>\n",
       "      <td>7.2500</td>\n",
       "      <td>NaN</td>\n",
       "      <td>S</td>\n",
       "    </tr>\n",
       "    <tr>\n",
       "      <th>1</th>\n",
       "      <td>2</td>\n",
       "      <td>1</td>\n",
       "      <td>1</td>\n",
       "      <td>Cumings, Mrs. John Bradley (Florence Briggs Th...</td>\n",
       "      <td>female</td>\n",
       "      <td>38.0</td>\n",
       "      <td>1</td>\n",
       "      <td>0</td>\n",
       "      <td>PC 17599</td>\n",
       "      <td>71.2833</td>\n",
       "      <td>C85</td>\n",
       "      <td>C</td>\n",
       "    </tr>\n",
       "    <tr>\n",
       "      <th>2</th>\n",
       "      <td>3</td>\n",
       "      <td>1</td>\n",
       "      <td>3</td>\n",
       "      <td>Heikkinen, Miss. Laina</td>\n",
       "      <td>female</td>\n",
       "      <td>26.0</td>\n",
       "      <td>0</td>\n",
       "      <td>0</td>\n",
       "      <td>STON/O2. 3101282</td>\n",
       "      <td>7.9250</td>\n",
       "      <td>NaN</td>\n",
       "      <td>S</td>\n",
       "    </tr>\n",
       "    <tr>\n",
       "      <th>3</th>\n",
       "      <td>4</td>\n",
       "      <td>1</td>\n",
       "      <td>1</td>\n",
       "      <td>Futrelle, Mrs. Jacques Heath (Lily May Peel)</td>\n",
       "      <td>female</td>\n",
       "      <td>35.0</td>\n",
       "      <td>1</td>\n",
       "      <td>0</td>\n",
       "      <td>113803</td>\n",
       "      <td>53.1000</td>\n",
       "      <td>C123</td>\n",
       "      <td>S</td>\n",
       "    </tr>\n",
       "    <tr>\n",
       "      <th>4</th>\n",
       "      <td>5</td>\n",
       "      <td>0</td>\n",
       "      <td>3</td>\n",
       "      <td>Allen, Mr. William Henry</td>\n",
       "      <td>male</td>\n",
       "      <td>35.0</td>\n",
       "      <td>0</td>\n",
       "      <td>0</td>\n",
       "      <td>373450</td>\n",
       "      <td>8.0500</td>\n",
       "      <td>NaN</td>\n",
       "      <td>S</td>\n",
       "    </tr>\n",
       "  </tbody>\n",
       "</table>\n",
       "</div>"
      ],
      "text/plain": [
       "   PassengerId  Survived  Pclass  \\\n",
       "0            1         0       3   \n",
       "1            2         1       1   \n",
       "2            3         1       3   \n",
       "3            4         1       1   \n",
       "4            5         0       3   \n",
       "\n",
       "                                                Name     Sex   Age  SibSp  \\\n",
       "0                            Braund, Mr. Owen Harris    male  22.0      1   \n",
       "1  Cumings, Mrs. John Bradley (Florence Briggs Th...  female  38.0      1   \n",
       "2                             Heikkinen, Miss. Laina  female  26.0      0   \n",
       "3       Futrelle, Mrs. Jacques Heath (Lily May Peel)  female  35.0      1   \n",
       "4                           Allen, Mr. William Henry    male  35.0      0   \n",
       "\n",
       "   Parch            Ticket     Fare Cabin Embarked  \n",
       "0      0         A/5 21171   7.2500   NaN        S  \n",
       "1      0          PC 17599  71.2833   C85        C  \n",
       "2      0  STON/O2. 3101282   7.9250   NaN        S  \n",
       "3      0            113803  53.1000  C123        S  \n",
       "4      0            373450   8.0500   NaN        S  "
      ]
     },
     "execution_count": 1,
     "metadata": {},
     "output_type": "execute_result"
    }
   ],
   "source": [
    "import pandas as pd\n",
    "\n",
    "data_titanic = pd.read_csv('data_titanic.csv')\n",
    "data_titanic.head()"
   ]
  },
  {
   "cell_type": "code",
   "execution_count": 2,
   "metadata": {},
   "outputs": [
    {
     "name": "stdout",
     "output_type": "stream",
     "text": [
      "(891, 12)\n",
      "(891, 12)\n"
     ]
    }
   ],
   "source": [
    "# menghapus data duplikat, jika ada\n",
    "print(data_titanic.shape)\n",
    "data_titanic.drop_duplicates(inplace=True)\n",
    "print(data_titanic.shape)"
   ]
  },
  {
   "cell_type": "code",
   "execution_count": 3,
   "metadata": {},
   "outputs": [],
   "source": [
    "# tidak ada data duplikat"
   ]
  },
  {
   "cell_type": "code",
   "execution_count": 4,
   "metadata": {
    "scrolled": false
   },
   "outputs": [
    {
     "name": "stdout",
     "output_type": "stream",
     "text": [
      "<class 'pandas.core.frame.DataFrame'>\n",
      "Int64Index: 891 entries, 0 to 890\n",
      "Data columns (total 12 columns):\n",
      "PassengerId    891 non-null int64\n",
      "Survived       891 non-null int64\n",
      "Pclass         891 non-null int64\n",
      "Name           891 non-null object\n",
      "Sex            891 non-null object\n",
      "Age            714 non-null float64\n",
      "SibSp          891 non-null int64\n",
      "Parch          891 non-null int64\n",
      "Ticket         891 non-null object\n",
      "Fare           891 non-null float64\n",
      "Cabin          204 non-null object\n",
      "Embarked       889 non-null object\n",
      "dtypes: float64(2), int64(5), object(5)\n",
      "memory usage: 73.1+ KB\n"
     ]
    }
   ],
   "source": [
    "# menampilkan informasi dasar terkait data, banyak kolom-baris, nama kolom, missing data, tipe data\n",
    "data_titanic.info()"
   ]
  },
  {
   "cell_type": "code",
   "execution_count": 5,
   "metadata": {},
   "outputs": [],
   "source": [
    "# ada missing data pada kolom Age, Cabin, dan Embarked. Paling banyak pada kolom Cabin"
   ]
  },
  {
   "cell_type": "code",
   "execution_count": 6,
   "metadata": {
    "scrolled": true
   },
   "outputs": [
    {
     "data": {
      "text/html": [
       "<div>\n",
       "<style scoped>\n",
       "    .dataframe tbody tr th:only-of-type {\n",
       "        vertical-align: middle;\n",
       "    }\n",
       "\n",
       "    .dataframe tbody tr th {\n",
       "        vertical-align: top;\n",
       "    }\n",
       "\n",
       "    .dataframe thead th {\n",
       "        text-align: right;\n",
       "    }\n",
       "</style>\n",
       "<table border=\"1\" class=\"dataframe\">\n",
       "  <thead>\n",
       "    <tr style=\"text-align: right;\">\n",
       "      <th></th>\n",
       "      <th>jmlh miss val</th>\n",
       "    </tr>\n",
       "  </thead>\n",
       "  <tbody>\n",
       "    <tr>\n",
       "      <th>PassengerId</th>\n",
       "      <td>0</td>\n",
       "    </tr>\n",
       "    <tr>\n",
       "      <th>Survived</th>\n",
       "      <td>0</td>\n",
       "    </tr>\n",
       "    <tr>\n",
       "      <th>Pclass</th>\n",
       "      <td>0</td>\n",
       "    </tr>\n",
       "    <tr>\n",
       "      <th>Name</th>\n",
       "      <td>0</td>\n",
       "    </tr>\n",
       "    <tr>\n",
       "      <th>Sex</th>\n",
       "      <td>0</td>\n",
       "    </tr>\n",
       "    <tr>\n",
       "      <th>Age</th>\n",
       "      <td>177</td>\n",
       "    </tr>\n",
       "    <tr>\n",
       "      <th>SibSp</th>\n",
       "      <td>0</td>\n",
       "    </tr>\n",
       "    <tr>\n",
       "      <th>Parch</th>\n",
       "      <td>0</td>\n",
       "    </tr>\n",
       "    <tr>\n",
       "      <th>Ticket</th>\n",
       "      <td>0</td>\n",
       "    </tr>\n",
       "    <tr>\n",
       "      <th>Fare</th>\n",
       "      <td>0</td>\n",
       "    </tr>\n",
       "    <tr>\n",
       "      <th>Cabin</th>\n",
       "      <td>687</td>\n",
       "    </tr>\n",
       "    <tr>\n",
       "      <th>Embarked</th>\n",
       "      <td>2</td>\n",
       "    </tr>\n",
       "  </tbody>\n",
       "</table>\n",
       "</div>"
      ],
      "text/plain": [
       "             jmlh miss val\n",
       "PassengerId              0\n",
       "Survived                 0\n",
       "Pclass                   0\n",
       "Name                     0\n",
       "Sex                      0\n",
       "Age                    177\n",
       "SibSp                    0\n",
       "Parch                    0\n",
       "Ticket                   0\n",
       "Fare                     0\n",
       "Cabin                  687\n",
       "Embarked                 2"
      ]
     },
     "execution_count": 6,
     "metadata": {},
     "output_type": "execute_result"
    }
   ],
   "source": [
    "# menampilkan banyaknya missing data pada tiap kolom\n",
    "pd.DataFrame(data_titanic.isnull().sum(), columns=['jmlh miss val'])"
   ]
  },
  {
   "cell_type": "code",
   "execution_count": 7,
   "metadata": {},
   "outputs": [],
   "source": [
    "# ganti missing data pada kolom Age dengan rata-ratanya\n",
    "# ganti missing data pada kolom Embarked dengan modusnya\n",
    "# hapus kolom Cabin karena terdapat banyak missing value, dan dirasa belum bisa memberikan informasi yang penting"
   ]
  },
  {
   "cell_type": "code",
   "execution_count": 8,
   "metadata": {},
   "outputs": [
    {
     "data": {
      "text/plain": [
       "S    644\n",
       "C    168\n",
       "Q     77\n",
       "Name: Embarked, dtype: int64"
      ]
     },
     "execution_count": 8,
     "metadata": {},
     "output_type": "execute_result"
    }
   ],
   "source": [
    "# melihat modus pada kolom Embarked, yaitu nilai yang paling sering muncul\n",
    "data_titanic[\"Embarked\"].value_counts()"
   ]
  },
  {
   "cell_type": "code",
   "execution_count": 9,
   "metadata": {},
   "outputs": [],
   "source": [
    "# drop kolom Cabin, kolom Age missing value >> rata-rata, kolom Embarked missing value >> modus\n",
    "kolom_drop = ['Cabin']\n",
    "data_titanic_filtered = data_titanic.drop(kolom_drop, axis=1)\n",
    "data_titanic_filtered[\"Age\"].fillna(data_titanic_filtered[\"Age\"].mean(), inplace=True)\n",
    "data_titanic_filtered[\"Embarked\"].fillna('S', inplace=True)"
   ]
  },
  {
   "cell_type": "code",
   "execution_count": 10,
   "metadata": {},
   "outputs": [
    {
     "name": "stdout",
     "output_type": "stream",
     "text": [
      "<class 'pandas.core.frame.DataFrame'>\n",
      "Int64Index: 891 entries, 0 to 890\n",
      "Data columns (total 11 columns):\n",
      "PassengerId    891 non-null int64\n",
      "Survived       891 non-null int64\n",
      "Pclass         891 non-null int64\n",
      "Name           891 non-null object\n",
      "Sex            891 non-null object\n",
      "Age            891 non-null float64\n",
      "SibSp          891 non-null int64\n",
      "Parch          891 non-null int64\n",
      "Ticket         891 non-null object\n",
      "Fare           891 non-null float64\n",
      "Embarked       891 non-null object\n",
      "dtypes: float64(2), int64(5), object(4)\n",
      "memory usage: 69.6+ KB\n"
     ]
    }
   ],
   "source": [
    "# informasi untuk data baru, data_titanic_filtered\n",
    "data_titanic_filtered.info()"
   ]
  },
  {
   "cell_type": "code",
   "execution_count": 11,
   "metadata": {},
   "outputs": [],
   "source": [
    "# tidak missing data lagi, semua kolom 891 entri"
   ]
  },
  {
   "cell_type": "code",
   "execution_count": 12,
   "metadata": {
    "scrolled": true
   },
   "outputs": [
    {
     "data": {
      "text/html": [
       "<div>\n",
       "<style scoped>\n",
       "    .dataframe tbody tr th:only-of-type {\n",
       "        vertical-align: middle;\n",
       "    }\n",
       "\n",
       "    .dataframe tbody tr th {\n",
       "        vertical-align: top;\n",
       "    }\n",
       "\n",
       "    .dataframe thead th {\n",
       "        text-align: right;\n",
       "    }\n",
       "</style>\n",
       "<table border=\"1\" class=\"dataframe\">\n",
       "  <thead>\n",
       "    <tr style=\"text-align: right;\">\n",
       "      <th></th>\n",
       "      <th>PassengerId</th>\n",
       "      <th>Survived</th>\n",
       "      <th>Pclass</th>\n",
       "      <th>Name</th>\n",
       "      <th>Sex</th>\n",
       "      <th>Age</th>\n",
       "      <th>SibSp</th>\n",
       "      <th>Parch</th>\n",
       "      <th>Ticket</th>\n",
       "      <th>Fare</th>\n",
       "      <th>Embarked</th>\n",
       "    </tr>\n",
       "  </thead>\n",
       "  <tbody>\n",
       "    <tr>\n",
       "      <th>0</th>\n",
       "      <td>1</td>\n",
       "      <td>0</td>\n",
       "      <td>3</td>\n",
       "      <td>Braund, Mr. Owen Harris</td>\n",
       "      <td>male</td>\n",
       "      <td>22.0</td>\n",
       "      <td>1</td>\n",
       "      <td>0</td>\n",
       "      <td>A/5 21171</td>\n",
       "      <td>7.2500</td>\n",
       "      <td>S</td>\n",
       "    </tr>\n",
       "    <tr>\n",
       "      <th>1</th>\n",
       "      <td>2</td>\n",
       "      <td>1</td>\n",
       "      <td>1</td>\n",
       "      <td>Cumings, Mrs. John Bradley (Florence Briggs Th...</td>\n",
       "      <td>female</td>\n",
       "      <td>38.0</td>\n",
       "      <td>1</td>\n",
       "      <td>0</td>\n",
       "      <td>PC 17599</td>\n",
       "      <td>71.2833</td>\n",
       "      <td>C</td>\n",
       "    </tr>\n",
       "    <tr>\n",
       "      <th>2</th>\n",
       "      <td>3</td>\n",
       "      <td>1</td>\n",
       "      <td>3</td>\n",
       "      <td>Heikkinen, Miss. Laina</td>\n",
       "      <td>female</td>\n",
       "      <td>26.0</td>\n",
       "      <td>0</td>\n",
       "      <td>0</td>\n",
       "      <td>STON/O2. 3101282</td>\n",
       "      <td>7.9250</td>\n",
       "      <td>S</td>\n",
       "    </tr>\n",
       "    <tr>\n",
       "      <th>3</th>\n",
       "      <td>4</td>\n",
       "      <td>1</td>\n",
       "      <td>1</td>\n",
       "      <td>Futrelle, Mrs. Jacques Heath (Lily May Peel)</td>\n",
       "      <td>female</td>\n",
       "      <td>35.0</td>\n",
       "      <td>1</td>\n",
       "      <td>0</td>\n",
       "      <td>113803</td>\n",
       "      <td>53.1000</td>\n",
       "      <td>S</td>\n",
       "    </tr>\n",
       "    <tr>\n",
       "      <th>4</th>\n",
       "      <td>5</td>\n",
       "      <td>0</td>\n",
       "      <td>3</td>\n",
       "      <td>Allen, Mr. William Henry</td>\n",
       "      <td>male</td>\n",
       "      <td>35.0</td>\n",
       "      <td>0</td>\n",
       "      <td>0</td>\n",
       "      <td>373450</td>\n",
       "      <td>8.0500</td>\n",
       "      <td>S</td>\n",
       "    </tr>\n",
       "  </tbody>\n",
       "</table>\n",
       "</div>"
      ],
      "text/plain": [
       "   PassengerId  Survived  Pclass  \\\n",
       "0            1         0       3   \n",
       "1            2         1       1   \n",
       "2            3         1       3   \n",
       "3            4         1       1   \n",
       "4            5         0       3   \n",
       "\n",
       "                                                Name     Sex   Age  SibSp  \\\n",
       "0                            Braund, Mr. Owen Harris    male  22.0      1   \n",
       "1  Cumings, Mrs. John Bradley (Florence Briggs Th...  female  38.0      1   \n",
       "2                             Heikkinen, Miss. Laina  female  26.0      0   \n",
       "3       Futrelle, Mrs. Jacques Heath (Lily May Peel)  female  35.0      1   \n",
       "4                           Allen, Mr. William Henry    male  35.0      0   \n",
       "\n",
       "   Parch            Ticket     Fare Embarked  \n",
       "0      0         A/5 21171   7.2500        S  \n",
       "1      0          PC 17599  71.2833        C  \n",
       "2      0  STON/O2. 3101282   7.9250        S  \n",
       "3      0            113803  53.1000        S  \n",
       "4      0            373450   8.0500        S  "
      ]
     },
     "execution_count": 12,
     "metadata": {},
     "output_type": "execute_result"
    }
   ],
   "source": [
    "data_titanic_filtered.head()"
   ]
  },
  {
   "cell_type": "code",
   "execution_count": 13,
   "metadata": {},
   "outputs": [],
   "source": [
    "# Data pada kolom Age diubah untuk memudahkan analisa;\n",
    "# jika bernilai <= 12 diganti 0 (anak-anak),\n",
    "# jika bernilai > 12 dan <= 20 diganti 1 (remaja),\n",
    "# jika bernilai > 20 dan <= 35 diganti 2 (dewasa),\n",
    "# jika bernilai > 35 dan <= 62 diganti 3 (orang tua),\n",
    "# dan jika bernilai > 62 diganti 4 (lansia)."
   ]
  },
  {
   "cell_type": "code",
   "execution_count": 14,
   "metadata": {},
   "outputs": [],
   "source": [
    "data_titanic_filtered.loc[ data_titanic_filtered['Age'] <= 12, 'Age'] = 0\n",
    "data_titanic_filtered.loc[(data_titanic_filtered['Age'] > 12) & (data_titanic_filtered['Age'] <= 20), 'Age'] = 1\n",
    "data_titanic_filtered.loc[(data_titanic_filtered['Age'] > 20) & (data_titanic_filtered['Age'] <= 35), 'Age'] = 2\n",
    "data_titanic_filtered.loc[(data_titanic_filtered['Age'] > 35) & (data_titanic_filtered['Age'] <= 62), 'Age'] = 3\n",
    "data_titanic_filtered.loc[ data_titanic_filtered['Age'] > 62, 'Age'] = 4"
   ]
  },
  {
   "cell_type": "code",
   "execution_count": 15,
   "metadata": {},
   "outputs": [],
   "source": [
    "# menambahkan kolom baru bernama Kerabat yaitu banyaknya kerabat di kapal titanic,\n",
    "# yang dihitung dari kolom SibSp (banyak saudara/pasangan) + kolom Parch (banyak orang tua/anak)."
   ]
  },
  {
   "cell_type": "code",
   "execution_count": 16,
   "metadata": {},
   "outputs": [],
   "source": [
    "data_titanic_filtered['Kerabat'] = data_titanic_filtered['SibSp'] + data_titanic_filtered['Parch']"
   ]
  },
  {
   "cell_type": "code",
   "execution_count": 17,
   "metadata": {},
   "outputs": [
    {
     "data": {
      "text/html": [
       "<div>\n",
       "<style scoped>\n",
       "    .dataframe tbody tr th:only-of-type {\n",
       "        vertical-align: middle;\n",
       "    }\n",
       "\n",
       "    .dataframe tbody tr th {\n",
       "        vertical-align: top;\n",
       "    }\n",
       "\n",
       "    .dataframe thead th {\n",
       "        text-align: right;\n",
       "    }\n",
       "</style>\n",
       "<table border=\"1\" class=\"dataframe\">\n",
       "  <thead>\n",
       "    <tr style=\"text-align: right;\">\n",
       "      <th></th>\n",
       "      <th>PassengerId</th>\n",
       "      <th>Survived</th>\n",
       "      <th>Pclass</th>\n",
       "      <th>Name</th>\n",
       "      <th>Sex</th>\n",
       "      <th>Age</th>\n",
       "      <th>SibSp</th>\n",
       "      <th>Parch</th>\n",
       "      <th>Ticket</th>\n",
       "      <th>Fare</th>\n",
       "      <th>Embarked</th>\n",
       "      <th>Kerabat</th>\n",
       "    </tr>\n",
       "  </thead>\n",
       "  <tbody>\n",
       "    <tr>\n",
       "      <th>0</th>\n",
       "      <td>1</td>\n",
       "      <td>0</td>\n",
       "      <td>3</td>\n",
       "      <td>Braund, Mr. Owen Harris</td>\n",
       "      <td>male</td>\n",
       "      <td>2.0</td>\n",
       "      <td>1</td>\n",
       "      <td>0</td>\n",
       "      <td>A/5 21171</td>\n",
       "      <td>7.2500</td>\n",
       "      <td>S</td>\n",
       "      <td>1</td>\n",
       "    </tr>\n",
       "    <tr>\n",
       "      <th>1</th>\n",
       "      <td>2</td>\n",
       "      <td>1</td>\n",
       "      <td>1</td>\n",
       "      <td>Cumings, Mrs. John Bradley (Florence Briggs Th...</td>\n",
       "      <td>female</td>\n",
       "      <td>3.0</td>\n",
       "      <td>1</td>\n",
       "      <td>0</td>\n",
       "      <td>PC 17599</td>\n",
       "      <td>71.2833</td>\n",
       "      <td>C</td>\n",
       "      <td>1</td>\n",
       "    </tr>\n",
       "    <tr>\n",
       "      <th>2</th>\n",
       "      <td>3</td>\n",
       "      <td>1</td>\n",
       "      <td>3</td>\n",
       "      <td>Heikkinen, Miss. Laina</td>\n",
       "      <td>female</td>\n",
       "      <td>2.0</td>\n",
       "      <td>0</td>\n",
       "      <td>0</td>\n",
       "      <td>STON/O2. 3101282</td>\n",
       "      <td>7.9250</td>\n",
       "      <td>S</td>\n",
       "      <td>0</td>\n",
       "    </tr>\n",
       "    <tr>\n",
       "      <th>3</th>\n",
       "      <td>4</td>\n",
       "      <td>1</td>\n",
       "      <td>1</td>\n",
       "      <td>Futrelle, Mrs. Jacques Heath (Lily May Peel)</td>\n",
       "      <td>female</td>\n",
       "      <td>2.0</td>\n",
       "      <td>1</td>\n",
       "      <td>0</td>\n",
       "      <td>113803</td>\n",
       "      <td>53.1000</td>\n",
       "      <td>S</td>\n",
       "      <td>1</td>\n",
       "    </tr>\n",
       "    <tr>\n",
       "      <th>4</th>\n",
       "      <td>5</td>\n",
       "      <td>0</td>\n",
       "      <td>3</td>\n",
       "      <td>Allen, Mr. William Henry</td>\n",
       "      <td>male</td>\n",
       "      <td>2.0</td>\n",
       "      <td>0</td>\n",
       "      <td>0</td>\n",
       "      <td>373450</td>\n",
       "      <td>8.0500</td>\n",
       "      <td>S</td>\n",
       "      <td>0</td>\n",
       "    </tr>\n",
       "  </tbody>\n",
       "</table>\n",
       "</div>"
      ],
      "text/plain": [
       "   PassengerId  Survived  Pclass  \\\n",
       "0            1         0       3   \n",
       "1            2         1       1   \n",
       "2            3         1       3   \n",
       "3            4         1       1   \n",
       "4            5         0       3   \n",
       "\n",
       "                                                Name     Sex  Age  SibSp  \\\n",
       "0                            Braund, Mr. Owen Harris    male  2.0      1   \n",
       "1  Cumings, Mrs. John Bradley (Florence Briggs Th...  female  3.0      1   \n",
       "2                             Heikkinen, Miss. Laina  female  2.0      0   \n",
       "3       Futrelle, Mrs. Jacques Heath (Lily May Peel)  female  2.0      1   \n",
       "4                           Allen, Mr. William Henry    male  2.0      0   \n",
       "\n",
       "   Parch            Ticket     Fare Embarked  Kerabat  \n",
       "0      0         A/5 21171   7.2500        S        1  \n",
       "1      0          PC 17599  71.2833        C        1  \n",
       "2      0  STON/O2. 3101282   7.9250        S        0  \n",
       "3      0            113803  53.1000        S        1  \n",
       "4      0            373450   8.0500        S        0  "
      ]
     },
     "execution_count": 17,
     "metadata": {},
     "output_type": "execute_result"
    }
   ],
   "source": [
    "data_titanic_filtered.head()"
   ]
  },
  {
   "cell_type": "code",
   "execution_count": 18,
   "metadata": {
    "scrolled": true
   },
   "outputs": [
    {
     "name": "stdout",
     "output_type": "stream",
     "text": [
      "<class 'pandas.core.frame.DataFrame'>\n",
      "Int64Index: 891 entries, 0 to 890\n",
      "Data columns (total 12 columns):\n",
      "PassengerId    891 non-null int64\n",
      "Survived       891 non-null int64\n",
      "Pclass         891 non-null int64\n",
      "Name           891 non-null object\n",
      "Sex            891 non-null object\n",
      "Age            891 non-null float64\n",
      "SibSp          891 non-null int64\n",
      "Parch          891 non-null int64\n",
      "Ticket         891 non-null object\n",
      "Fare           891 non-null float64\n",
      "Embarked       891 non-null object\n",
      "Kerabat        891 non-null int64\n",
      "dtypes: float64(2), int64(6), object(4)\n",
      "memory usage: 76.6+ KB\n"
     ]
    }
   ],
   "source": [
    "data_titanic_filtered.info()"
   ]
  },
  {
   "cell_type": "markdown",
   "metadata": {},
   "source": [
    "### Visualisasi data"
   ]
  },
  {
   "cell_type": "code",
   "execution_count": 19,
   "metadata": {},
   "outputs": [],
   "source": [
    "%matplotlib inline\n",
    "import matplotlib.pyplot as plt"
   ]
  },
  {
   "cell_type": "code",
   "execution_count": 20,
   "metadata": {},
   "outputs": [
    {
     "data": {
      "text/plain": [
       "0     537\n",
       "1     161\n",
       "2     102\n",
       "3      29\n",
       "5      22\n",
       "4      15\n",
       "6      12\n",
       "10      7\n",
       "7       6\n",
       "Name: Kerabat, dtype: int64"
      ]
     },
     "execution_count": 20,
     "metadata": {},
     "output_type": "execute_result"
    }
   ],
   "source": [
    "data_titanic_filtered.Kerabat.value_counts()"
   ]
  },
  {
   "cell_type": "code",
   "execution_count": 21,
   "metadata": {},
   "outputs": [],
   "source": [
    "# membuat stacked bar chart banyak kerabat terhadap keselamatan\n",
    "def bar_chart(feature):\n",
    "    survived = data_titanic_filtered[data_titanic_filtered['Survived']==1][feature].value_counts()\n",
    "    dead = data_titanic_filtered[data_titanic_filtered['Survived']==0][feature].value_counts()\n",
    "    df = pd.DataFrame([survived,dead])\n",
    "    df.index = ['Survived','Dead']\n",
    "    df.plot(kind='bar',stacked=True, figsize=(10,5), title='Stacked Barplot Pengaruh Usia Terhadap Keselamatan')"
   ]
  },
  {
   "cell_type": "code",
   "execution_count": 22,
   "metadata": {
    "scrolled": true
   },
   "outputs": [
    {
     "data": {
      "image/png": "[encoded data removed]",
      "text/plain": [
       "<Figure size 720x360 with 1 Axes>"
      ]
     },
     "metadata": {},
     "output_type": "display_data"
    }
   ],
   "source": [
    "bar_chart('Kerabat')"
   ]
  },
  {
   "cell_type": "code",
   "execution_count": 23,
   "metadata": {},
   "outputs": [],
   "source": [
    "# Banyak kerabat tidak berpengaruh secara signifikan terhadap keselamatan penumpang titanic,\n",
    "# hal tsb terlihat dari kedua barplot (survived dan dead) yang semuanya terdiri dari berbagai warna.\n",
    "# Warna yang berbeda menyatakan perbedaan banyaknya kerabat."
   ]
  },
  {
   "cell_type": "code",
   "execution_count": 24,
   "metadata": {},
   "outputs": [],
   "source": [
    "data_baru = pd.DataFrame(data_titanic_filtered)"
   ]
  },
  {
   "cell_type": "code",
   "execution_count": 25,
   "metadata": {},
   "outputs": [],
   "source": [
    "# mengubah nilai data pada kolom Age menjadi string, untuk memudahkan interpretasi"
   ]
  },
  {
   "cell_type": "code",
   "execution_count": 26,
   "metadata": {},
   "outputs": [],
   "source": [
    "data_baru = pd.DataFrame(data_titanic_filtered)\n",
    "data_baru.loc[ data_baru['Age'] == 0, 'Age'] = 'Anak-Anak (<13)'\n",
    "data_baru.loc[ data_baru['Age'] == 1, 'Age'] = 'Remaja (13-20)'\n",
    "data_baru.loc[ data_baru['Age'] == 2, 'Age'] = 'Dewasa (21-35)'\n",
    "data_baru.loc[ data_baru['Age'] == 3, 'Age'] = 'Orang Tua (36-62)'\n",
    "data_baru.loc[ data_baru['Age'] == 4, 'Age'] = 'Lansia (>62)'"
   ]
  },
  {
   "cell_type": "code",
   "execution_count": 27,
   "metadata": {},
   "outputs": [],
   "source": [
    "# membuat bar chart usia terhadap keselamatan\n",
    "def bar_chart2(feature):\n",
    "    survived = data_baru[data_baru['Survived']==1][feature].value_counts()\n",
    "    dead = data_baru[data_baru['Survived']==0][feature].value_counts()\n",
    "    df = pd.DataFrame([survived,dead])\n",
    "    df.index = ['Selamat','Mati']\n",
    "    df.plot(kind='bar',stacked=False, figsize=(10,5), title='Barplot Pengaruh Usia Terhadap Keselamatan')"
   ]
  },
  {
   "cell_type": "code",
   "execution_count": 28,
   "metadata": {
    "scrolled": true
   },
   "outputs": [
    {
     "data": {
      "image/png": "[encoded data removed]",
      "text/plain": [
       "<Figure size 720x360 with 1 Axes>"
      ]
     },
     "metadata": {},
     "output_type": "display_data"
    }
   ],
   "source": [
    "bar_chart2('Age')"
   ]
  },
  {
   "cell_type": "code",
   "execution_count": 29,
   "metadata": {},
   "outputs": [],
   "source": [
    "# mayoritas korban meninggal adalah dari usia dewasa (21-35 tahun)\n",
    "# hanya usia anak-anak (<13 tahun) yang memiliki peluang selamat lebih besar\n",
    "# korban selamat dan meninggal berdasarkan usia memiliki komposisi yang hampir sama"
   ]
  },
  {
   "cell_type": "code",
   "execution_count": 30,
   "metadata": {},
   "outputs": [],
   "source": [
    "import seaborn as sns"
   ]
  },
  {
   "cell_type": "code",
   "execution_count": 31,
   "metadata": {
    "scrolled": true
   },
   "outputs": [
    {
     "name": "stderr",
     "output_type": "stream",
     "text": [
      "/usr/local/lib/python3.4/dist-packages/scipy/stats/stats.py:1713: FutureWarning: Using a non-tuple sequence for multidimensional indexing is deprecated; use `arr[tuple(seq)]` instead of `arr[seq]`. In the future this will be interpreted as an array index, `arr[np.array(seq)]`, which will result either in an error or a different result.\n",
      "  return np.add.reduce(sorted[indexer] * weights, axis=axis) / sumval\n"
     ]
    },
    {
     "data": {
      "image/png": "[encoded data removed]",
      "text/plain": [
       "<Figure size 915.875x216 with 1 Axes>"
      ]
     },
     "metadata": {},
     "output_type": "display_data"
    }
   ],
   "source": [
    "# membuat kde plot usia terhadap keselamatan\n",
    "facet = sns.FacetGrid(data_titanic, hue=\"Survived\",aspect=4)\n",
    "facet.map(sns.kdeplot,'Age',shade= True)\n",
    "facet.set(xlim=(0, data_titanic['Age'].max()), title='kde plot usia terhadap keselamatan')\n",
    "facet.add_legend()\n",
    " \n",
    "plt.show() "
   ]
  },
  {
   "cell_type": "code",
   "execution_count": 32,
   "metadata": {},
   "outputs": [],
   "source": [
    "# Untuk mengetahui pengaruh usia terhadap keselamatan secara lebih detail dapat digunakan kde plot.\n",
    "# Pada suatu interval, jika suatu grafik lebih tinggi dari pada grafik yang lain, maka grafik tersebut lebih\n",
    "# berpeluang terjadi.\n",
    "\n",
    "# Misalnya pada kasus kde plot usia terhadap keselamatan di atas, pada interval usia 0-10 tahun\n",
    "# penumpang lebih berpeluang untuk selamat, sementara pada interval usia 15-30 tahun penumpang lebih\n",
    "# berpeluang untuk tidak selamat."
   ]
  },
  {
   "cell_type": "code",
   "execution_count": 33,
   "metadata": {},
   "outputs": [],
   "source": [
    "# membuat stacked barh chart jenis kelamin terhadap keselamatan\n",
    "def bar_chart3(feature):\n",
    "    male = data_titanic_filtered[data_titanic_filtered[feature]=='male']['Survived'].value_counts()\n",
    "    female = data_titanic_filtered[data_titanic_filtered[feature]=='female']['Survived'].value_counts()\n",
    "    df = pd.DataFrame([male,female])\n",
    "    df.index = ['Laki-laki','Perempuan']\n",
    "    df.plot(kind='barh',stacked=True, figsize=(10,5), title='Stacked Barhplot Pengaruh Jenis Kelamin Terhadap Keselamatan')"
   ]
  },
  {
   "cell_type": "code",
   "execution_count": 34,
   "metadata": {
    "scrolled": true
   },
   "outputs": [
    {
     "data": {
      "image/png": "[encoded data removed]",
      "text/plain": [
       "<Figure size 720x360 with 1 Axes>"
      ]
     },
     "metadata": {},
     "output_type": "display_data"
    }
   ],
   "source": [
    "bar_chart3('Sex')"
   ]
  },
  {
   "cell_type": "code",
   "execution_count": 35,
   "metadata": {},
   "outputs": [],
   "source": [
    "# penumpang laki-laki memiliki peluang untuk tidak selamat yang cukup besar,\n",
    "# hanya sekitar 100an yang selamat dari 550 lebih penumpang laki-laki"
   ]
  },
  {
   "cell_type": "code",
   "execution_count": 36,
   "metadata": {},
   "outputs": [],
   "source": [
    "# mengubah nilai pada kolom Survived menjadi string, Selamat - Tidak Selamat,\n",
    "# untuk memudahkan interpretasi\n",
    "data_baru3 = pd.DataFrame(data_titanic_filtered)\n",
    "data_baru3.loc[ data_baru3['Survived'] == 1, 'Survived'] = 'Selamat'\n",
    "data_baru3.loc[ data_baru['Survived'] == 0, 'Survived'] = 'Tidak Selamat'"
   ]
  },
  {
   "cell_type": "code",
   "execution_count": 37,
   "metadata": {},
   "outputs": [],
   "source": [
    "# membuat stacked bar chart kelas tiket (Pclass) terhadap keselamatan\n",
    "def bar_chart3(feature):\n",
    "    vvip = data_baru3[data_baru3['Pclass']==1][feature].value_counts()\n",
    "    vip = data_baru3[data_baru3['Pclass']==2][feature].value_counts()\n",
    "    ekonomi = data_baru3[data_baru3['Pclass']==3][feature].value_counts()\n",
    "    df = pd.DataFrame([vvip,vip,ekonomi])\n",
    "    df.index = ['1 (VVIP)','2 (VIP)','3 (Ekonomi)']\n",
    "    df.plot(kind='bar',stacked=True, figsize=(10,5), title='Stacked Barplot Pengaruh Kelas Tiket Terhadap Keselamatan')"
   ]
  },
  {
   "cell_type": "code",
   "execution_count": 38,
   "metadata": {
    "scrolled": true
   },
   "outputs": [
    {
     "data": {
      "image/png": "[encoded data removed]",
      "text/plain": [
       "<Figure size 720x360 with 1 Axes>"
      ]
     },
     "metadata": {},
     "output_type": "display_data"
    }
   ],
   "source": [
    "bar_chart3('Survived')"
   ]
  },
  {
   "cell_type": "code",
   "execution_count": 39,
   "metadata": {},
   "outputs": [],
   "source": [
    "# Penumpang kelas VVIP lebih berpeluang untuk selamat, terlihat dari warna biru yang mendominasi.\n",
    "# Penumpang kelas VIP memiliki peluang selamat dan tidak selamat yang hampir sama.\n",
    "# Penumpang kelas ekonomi lebih berpeluang untuk tidak selamat, terlihat dari warna orange yang mendominasi."
   ]
  },
  {
   "cell_type": "code",
   "execution_count": 40,
   "metadata": {
    "scrolled": true
   },
   "outputs": [
    {
     "data": {
      "text/html": [
       "<div>\n",
       "<style scoped>\n",
       "    .dataframe tbody tr th:only-of-type {\n",
       "        vertical-align: middle;\n",
       "    }\n",
       "\n",
       "    .dataframe tbody tr th {\n",
       "        vertical-align: top;\n",
       "    }\n",
       "\n",
       "    .dataframe thead th {\n",
       "        text-align: right;\n",
       "    }\n",
       "</style>\n",
       "<table border=\"1\" class=\"dataframe\">\n",
       "  <thead>\n",
       "    <tr style=\"text-align: right;\">\n",
       "      <th></th>\n",
       "      <th>PassengerId</th>\n",
       "      <th>Survived</th>\n",
       "      <th>Pclass</th>\n",
       "      <th>Name</th>\n",
       "      <th>Sex</th>\n",
       "      <th>Age</th>\n",
       "      <th>SibSp</th>\n",
       "      <th>Parch</th>\n",
       "      <th>Ticket</th>\n",
       "      <th>Fare</th>\n",
       "      <th>Cabin</th>\n",
       "      <th>Embarked</th>\n",
       "    </tr>\n",
       "  </thead>\n",
       "  <tbody>\n",
       "    <tr>\n",
       "      <th>0</th>\n",
       "      <td>1</td>\n",
       "      <td>0</td>\n",
       "      <td>3</td>\n",
       "      <td>Braund, Mr. Owen Harris</td>\n",
       "      <td>male</td>\n",
       "      <td>22.0</td>\n",
       "      <td>1</td>\n",
       "      <td>0</td>\n",
       "      <td>A/5 21171</td>\n",
       "      <td>7.2500</td>\n",
       "      <td>NaN</td>\n",
       "      <td>S</td>\n",
       "    </tr>\n",
       "    <tr>\n",
       "      <th>1</th>\n",
       "      <td>2</td>\n",
       "      <td>1</td>\n",
       "      <td>1</td>\n",
       "      <td>Cumings, Mrs. John Bradley (Florence Briggs Th...</td>\n",
       "      <td>female</td>\n",
       "      <td>38.0</td>\n",
       "      <td>1</td>\n",
       "      <td>0</td>\n",
       "      <td>PC 17599</td>\n",
       "      <td>71.2833</td>\n",
       "      <td>C85</td>\n",
       "      <td>C</td>\n",
       "    </tr>\n",
       "    <tr>\n",
       "      <th>2</th>\n",
       "      <td>3</td>\n",
       "      <td>1</td>\n",
       "      <td>3</td>\n",
       "      <td>Heikkinen, Miss. Laina</td>\n",
       "      <td>female</td>\n",
       "      <td>26.0</td>\n",
       "      <td>0</td>\n",
       "      <td>0</td>\n",
       "      <td>STON/O2. 3101282</td>\n",
       "      <td>7.9250</td>\n",
       "      <td>NaN</td>\n",
       "      <td>S</td>\n",
       "    </tr>\n",
       "    <tr>\n",
       "      <th>3</th>\n",
       "      <td>4</td>\n",
       "      <td>1</td>\n",
       "      <td>1</td>\n",
       "      <td>Futrelle, Mrs. Jacques Heath (Lily May Peel)</td>\n",
       "      <td>female</td>\n",
       "      <td>35.0</td>\n",
       "      <td>1</td>\n",
       "      <td>0</td>\n",
       "      <td>113803</td>\n",
       "      <td>53.1000</td>\n",
       "      <td>C123</td>\n",
       "      <td>S</td>\n",
       "    </tr>\n",
       "    <tr>\n",
       "      <th>4</th>\n",
       "      <td>5</td>\n",
       "      <td>0</td>\n",
       "      <td>3</td>\n",
       "      <td>Allen, Mr. William Henry</td>\n",
       "      <td>male</td>\n",
       "      <td>35.0</td>\n",
       "      <td>0</td>\n",
       "      <td>0</td>\n",
       "      <td>373450</td>\n",
       "      <td>8.0500</td>\n",
       "      <td>NaN</td>\n",
       "      <td>S</td>\n",
       "    </tr>\n",
       "  </tbody>\n",
       "</table>\n",
       "</div>"
      ],
      "text/plain": [
       "   PassengerId  Survived  Pclass  \\\n",
       "0            1         0       3   \n",
       "1            2         1       1   \n",
       "2            3         1       3   \n",
       "3            4         1       1   \n",
       "4            5         0       3   \n",
       "\n",
       "                                                Name     Sex   Age  SibSp  \\\n",
       "0                            Braund, Mr. Owen Harris    male  22.0      1   \n",
       "1  Cumings, Mrs. John Bradley (Florence Briggs Th...  female  38.0      1   \n",
       "2                             Heikkinen, Miss. Laina  female  26.0      0   \n",
       "3       Futrelle, Mrs. Jacques Heath (Lily May Peel)  female  35.0      1   \n",
       "4                           Allen, Mr. William Henry    male  35.0      0   \n",
       "\n",
       "   Parch            Ticket     Fare Cabin Embarked  \n",
       "0      0         A/5 21171   7.2500   NaN        S  \n",
       "1      0          PC 17599  71.2833   C85        C  \n",
       "2      0  STON/O2. 3101282   7.9250   NaN        S  \n",
       "3      0            113803  53.1000  C123        S  \n",
       "4      0            373450   8.0500   NaN        S  "
      ]
     },
     "execution_count": 40,
     "metadata": {},
     "output_type": "execute_result"
    }
   ],
   "source": [
    "data_titanic.head()"
   ]
  },
  {
   "cell_type": "code",
   "execution_count": 41,
   "metadata": {},
   "outputs": [],
   "source": [
    "data_titanic.loc[ data_titanic['Sex'] == 'male', 'Sex'] = 1\n",
    "data_titanic.loc[ data_titanic['Sex'] == 'female', 'Sex'] = 0"
   ]
  },
  {
   "cell_type": "code",
   "execution_count": 42,
   "metadata": {},
   "outputs": [],
   "source": [
    "data_titanic['Kerabat'] = data_titanic_filtered['Kerabat']"
   ]
  },
  {
   "cell_type": "code",
   "execution_count": 43,
   "metadata": {},
   "outputs": [
    {
     "data": {
      "text/html": [
       "<div>\n",
       "<style scoped>\n",
       "    .dataframe tbody tr th:only-of-type {\n",
       "        vertical-align: middle;\n",
       "    }\n",
       "\n",
       "    .dataframe tbody tr th {\n",
       "        vertical-align: top;\n",
       "    }\n",
       "\n",
       "    .dataframe thead th {\n",
       "        text-align: right;\n",
       "    }\n",
       "</style>\n",
       "<table border=\"1\" class=\"dataframe\">\n",
       "  <thead>\n",
       "    <tr style=\"text-align: right;\">\n",
       "      <th></th>\n",
       "      <th>PassengerId</th>\n",
       "      <th>Survived</th>\n",
       "      <th>Pclass</th>\n",
       "      <th>Name</th>\n",
       "      <th>Sex</th>\n",
       "      <th>Age</th>\n",
       "      <th>SibSp</th>\n",
       "      <th>Parch</th>\n",
       "      <th>Ticket</th>\n",
       "      <th>Fare</th>\n",
       "      <th>Cabin</th>\n",
       "      <th>Embarked</th>\n",
       "      <th>Kerabat</th>\n",
       "    </tr>\n",
       "  </thead>\n",
       "  <tbody>\n",
       "    <tr>\n",
       "      <th>0</th>\n",
       "      <td>1</td>\n",
       "      <td>0</td>\n",
       "      <td>3</td>\n",
       "      <td>Braund, Mr. Owen Harris</td>\n",
       "      <td>1</td>\n",
       "      <td>22.0</td>\n",
       "      <td>1</td>\n",
       "      <td>0</td>\n",
       "      <td>A/5 21171</td>\n",
       "      <td>7.2500</td>\n",
       "      <td>NaN</td>\n",
       "      <td>S</td>\n",
       "      <td>1</td>\n",
       "    </tr>\n",
       "    <tr>\n",
       "      <th>1</th>\n",
       "      <td>2</td>\n",
       "      <td>1</td>\n",
       "      <td>1</td>\n",
       "      <td>Cumings, Mrs. John Bradley (Florence Briggs Th...</td>\n",
       "      <td>0</td>\n",
       "      <td>38.0</td>\n",
       "      <td>1</td>\n",
       "      <td>0</td>\n",
       "      <td>PC 17599</td>\n",
       "      <td>71.2833</td>\n",
       "      <td>C85</td>\n",
       "      <td>C</td>\n",
       "      <td>1</td>\n",
       "    </tr>\n",
       "    <tr>\n",
       "      <th>2</th>\n",
       "      <td>3</td>\n",
       "      <td>1</td>\n",
       "      <td>3</td>\n",
       "      <td>Heikkinen, Miss. Laina</td>\n",
       "      <td>0</td>\n",
       "      <td>26.0</td>\n",
       "      <td>0</td>\n",
       "      <td>0</td>\n",
       "      <td>STON/O2. 3101282</td>\n",
       "      <td>7.9250</td>\n",
       "      <td>NaN</td>\n",
       "      <td>S</td>\n",
       "      <td>0</td>\n",
       "    </tr>\n",
       "    <tr>\n",
       "      <th>3</th>\n",
       "      <td>4</td>\n",
       "      <td>1</td>\n",
       "      <td>1</td>\n",
       "      <td>Futrelle, Mrs. Jacques Heath (Lily May Peel)</td>\n",
       "      <td>0</td>\n",
       "      <td>35.0</td>\n",
       "      <td>1</td>\n",
       "      <td>0</td>\n",
       "      <td>113803</td>\n",
       "      <td>53.1000</td>\n",
       "      <td>C123</td>\n",
       "      <td>S</td>\n",
       "      <td>1</td>\n",
       "    </tr>\n",
       "    <tr>\n",
       "      <th>4</th>\n",
       "      <td>5</td>\n",
       "      <td>0</td>\n",
       "      <td>3</td>\n",
       "      <td>Allen, Mr. William Henry</td>\n",
       "      <td>1</td>\n",
       "      <td>35.0</td>\n",
       "      <td>0</td>\n",
       "      <td>0</td>\n",
       "      <td>373450</td>\n",
       "      <td>8.0500</td>\n",
       "      <td>NaN</td>\n",
       "      <td>S</td>\n",
       "      <td>0</td>\n",
       "    </tr>\n",
       "  </tbody>\n",
       "</table>\n",
       "</div>"
      ],
      "text/plain": [
       "   PassengerId  Survived  Pclass  \\\n",
       "0            1         0       3   \n",
       "1            2         1       1   \n",
       "2            3         1       3   \n",
       "3            4         1       1   \n",
       "4            5         0       3   \n",
       "\n",
       "                                                Name  Sex   Age  SibSp  Parch  \\\n",
       "0                            Braund, Mr. Owen Harris    1  22.0      1      0   \n",
       "1  Cumings, Mrs. John Bradley (Florence Briggs Th...    0  38.0      1      0   \n",
       "2                             Heikkinen, Miss. Laina    0  26.0      0      0   \n",
       "3       Futrelle, Mrs. Jacques Heath (Lily May Peel)    0  35.0      1      0   \n",
       "4                           Allen, Mr. William Henry    1  35.0      0      0   \n",
       "\n",
       "             Ticket     Fare Cabin Embarked  Kerabat  \n",
       "0         A/5 21171   7.2500   NaN        S        1  \n",
       "1          PC 17599  71.2833   C85        C        1  \n",
       "2  STON/O2. 3101282   7.9250   NaN        S        0  \n",
       "3            113803  53.1000  C123        S        1  \n",
       "4            373450   8.0500   NaN        S        0  "
      ]
     },
     "execution_count": 43,
     "metadata": {},
     "output_type": "execute_result"
    }
   ],
   "source": [
    "data_titanic.head()"
   ]
  },
  {
   "cell_type": "code",
   "execution_count": 44,
   "metadata": {},
   "outputs": [],
   "source": [
    "# membuat matrix korelasi linear antar kolom yang bertipe numerik\n",
    "corr = data_titanic.corr().round(3)"
   ]
  },
  {
   "cell_type": "code",
   "execution_count": 45,
   "metadata": {},
   "outputs": [],
   "source": [
    "def color_corr(val):\n",
    "    color = 'blue' if abs(val) > 0.3 and abs(val) < 1 else 'black'\n",
    "    return 'color: %s' % color"
   ]
  },
  {
   "cell_type": "code",
   "execution_count": 46,
   "metadata": {
    "scrolled": true
   },
   "outputs": [
    {
     "data": {
      "text/html": [
       "<style  type=\"text/css\" >\n",
       "    #T_0cdb19a2_c93e_11e9_bc75_74de2bc4e4cbrow0_col0 {\n",
       "            color:  black;\n",
       "        }    #T_0cdb19a2_c93e_11e9_bc75_74de2bc4e4cbrow0_col1 {\n",
       "            color:  black;\n",
       "        }    #T_0cdb19a2_c93e_11e9_bc75_74de2bc4e4cbrow0_col2 {\n",
       "            color:  black;\n",
       "        }    #T_0cdb19a2_c93e_11e9_bc75_74de2bc4e4cbrow0_col3 {\n",
       "            color:  black;\n",
       "        }    #T_0cdb19a2_c93e_11e9_bc75_74de2bc4e4cbrow0_col4 {\n",
       "            color:  black;\n",
       "        }    #T_0cdb19a2_c93e_11e9_bc75_74de2bc4e4cbrow0_col5 {\n",
       "            color:  black;\n",
       "        }    #T_0cdb19a2_c93e_11e9_bc75_74de2bc4e4cbrow0_col6 {\n",
       "            color:  black;\n",
       "        }    #T_0cdb19a2_c93e_11e9_bc75_74de2bc4e4cbrow0_col7 {\n",
       "            color:  black;\n",
       "        }    #T_0cdb19a2_c93e_11e9_bc75_74de2bc4e4cbrow0_col8 {\n",
       "            color:  black;\n",
       "        }    #T_0cdb19a2_c93e_11e9_bc75_74de2bc4e4cbrow1_col0 {\n",
       "            color:  black;\n",
       "        }    #T_0cdb19a2_c93e_11e9_bc75_74de2bc4e4cbrow1_col1 {\n",
       "            color:  black;\n",
       "        }    #T_0cdb19a2_c93e_11e9_bc75_74de2bc4e4cbrow1_col2 {\n",
       "            color:  blue;\n",
       "        }    #T_0cdb19a2_c93e_11e9_bc75_74de2bc4e4cbrow1_col3 {\n",
       "            color:  blue;\n",
       "        }    #T_0cdb19a2_c93e_11e9_bc75_74de2bc4e4cbrow1_col4 {\n",
       "            color:  black;\n",
       "        }    #T_0cdb19a2_c93e_11e9_bc75_74de2bc4e4cbrow1_col5 {\n",
       "            color:  black;\n",
       "        }    #T_0cdb19a2_c93e_11e9_bc75_74de2bc4e4cbrow1_col6 {\n",
       "            color:  black;\n",
       "        }    #T_0cdb19a2_c93e_11e9_bc75_74de2bc4e4cbrow1_col7 {\n",
       "            color:  black;\n",
       "        }    #T_0cdb19a2_c93e_11e9_bc75_74de2bc4e4cbrow1_col8 {\n",
       "            color:  black;\n",
       "        }    #T_0cdb19a2_c93e_11e9_bc75_74de2bc4e4cbrow2_col0 {\n",
       "            color:  black;\n",
       "        }    #T_0cdb19a2_c93e_11e9_bc75_74de2bc4e4cbrow2_col1 {\n",
       "            color:  blue;\n",
       "        }    #T_0cdb19a2_c93e_11e9_bc75_74de2bc4e4cbrow2_col2 {\n",
       "            color:  black;\n",
       "        }    #T_0cdb19a2_c93e_11e9_bc75_74de2bc4e4cbrow2_col3 {\n",
       "            color:  black;\n",
       "        }    #T_0cdb19a2_c93e_11e9_bc75_74de2bc4e4cbrow2_col4 {\n",
       "            color:  blue;\n",
       "        }    #T_0cdb19a2_c93e_11e9_bc75_74de2bc4e4cbrow2_col5 {\n",
       "            color:  black;\n",
       "        }    #T_0cdb19a2_c93e_11e9_bc75_74de2bc4e4cbrow2_col6 {\n",
       "            color:  black;\n",
       "        }    #T_0cdb19a2_c93e_11e9_bc75_74de2bc4e4cbrow2_col7 {\n",
       "            color:  blue;\n",
       "        }    #T_0cdb19a2_c93e_11e9_bc75_74de2bc4e4cbrow2_col8 {\n",
       "            color:  black;\n",
       "        }    #T_0cdb19a2_c93e_11e9_bc75_74de2bc4e4cbrow3_col0 {\n",
       "            color:  black;\n",
       "        }    #T_0cdb19a2_c93e_11e9_bc75_74de2bc4e4cbrow3_col1 {\n",
       "            color:  blue;\n",
       "        }    #T_0cdb19a2_c93e_11e9_bc75_74de2bc4e4cbrow3_col2 {\n",
       "            color:  black;\n",
       "        }    #T_0cdb19a2_c93e_11e9_bc75_74de2bc4e4cbrow3_col3 {\n",
       "            color:  black;\n",
       "        }    #T_0cdb19a2_c93e_11e9_bc75_74de2bc4e4cbrow3_col4 {\n",
       "            color:  black;\n",
       "        }    #T_0cdb19a2_c93e_11e9_bc75_74de2bc4e4cbrow3_col5 {\n",
       "            color:  black;\n",
       "        }    #T_0cdb19a2_c93e_11e9_bc75_74de2bc4e4cbrow3_col6 {\n",
       "            color:  black;\n",
       "        }    #T_0cdb19a2_c93e_11e9_bc75_74de2bc4e4cbrow3_col7 {\n",
       "            color:  black;\n",
       "        }    #T_0cdb19a2_c93e_11e9_bc75_74de2bc4e4cbrow3_col8 {\n",
       "            color:  black;\n",
       "        }    #T_0cdb19a2_c93e_11e9_bc75_74de2bc4e4cbrow4_col0 {\n",
       "            color:  black;\n",
       "        }    #T_0cdb19a2_c93e_11e9_bc75_74de2bc4e4cbrow4_col1 {\n",
       "            color:  black;\n",
       "        }    #T_0cdb19a2_c93e_11e9_bc75_74de2bc4e4cbrow4_col2 {\n",
       "            color:  blue;\n",
       "        }    #T_0cdb19a2_c93e_11e9_bc75_74de2bc4e4cbrow4_col3 {\n",
       "            color:  black;\n",
       "        }    #T_0cdb19a2_c93e_11e9_bc75_74de2bc4e4cbrow4_col4 {\n",
       "            color:  black;\n",
       "        }    #T_0cdb19a2_c93e_11e9_bc75_74de2bc4e4cbrow4_col5 {\n",
       "            color:  blue;\n",
       "        }    #T_0cdb19a2_c93e_11e9_bc75_74de2bc4e4cbrow4_col6 {\n",
       "            color:  black;\n",
       "        }    #T_0cdb19a2_c93e_11e9_bc75_74de2bc4e4cbrow4_col7 {\n",
       "            color:  black;\n",
       "        }    #T_0cdb19a2_c93e_11e9_bc75_74de2bc4e4cbrow4_col8 {\n",
       "            color:  blue;\n",
       "        }    #T_0cdb19a2_c93e_11e9_bc75_74de2bc4e4cbrow5_col0 {\n",
       "            color:  black;\n",
       "        }    #T_0cdb19a2_c93e_11e9_bc75_74de2bc4e4cbrow5_col1 {\n",
       "            color:  black;\n",
       "        }    #T_0cdb19a2_c93e_11e9_bc75_74de2bc4e4cbrow5_col2 {\n",
       "            color:  black;\n",
       "        }    #T_0cdb19a2_c93e_11e9_bc75_74de2bc4e4cbrow5_col3 {\n",
       "            color:  black;\n",
       "        }    #T_0cdb19a2_c93e_11e9_bc75_74de2bc4e4cbrow5_col4 {\n",
       "            color:  blue;\n",
       "        }    #T_0cdb19a2_c93e_11e9_bc75_74de2bc4e4cbrow5_col5 {\n",
       "            color:  black;\n",
       "        }    #T_0cdb19a2_c93e_11e9_bc75_74de2bc4e4cbrow5_col6 {\n",
       "            color:  blue;\n",
       "        }    #T_0cdb19a2_c93e_11e9_bc75_74de2bc4e4cbrow5_col7 {\n",
       "            color:  black;\n",
       "        }    #T_0cdb19a2_c93e_11e9_bc75_74de2bc4e4cbrow5_col8 {\n",
       "            color:  blue;\n",
       "        }    #T_0cdb19a2_c93e_11e9_bc75_74de2bc4e4cbrow6_col0 {\n",
       "            color:  black;\n",
       "        }    #T_0cdb19a2_c93e_11e9_bc75_74de2bc4e4cbrow6_col1 {\n",
       "            color:  black;\n",
       "        }    #T_0cdb19a2_c93e_11e9_bc75_74de2bc4e4cbrow6_col2 {\n",
       "            color:  black;\n",
       "        }    #T_0cdb19a2_c93e_11e9_bc75_74de2bc4e4cbrow6_col3 {\n",
       "            color:  black;\n",
       "        }    #T_0cdb19a2_c93e_11e9_bc75_74de2bc4e4cbrow6_col4 {\n",
       "            color:  black;\n",
       "        }    #T_0cdb19a2_c93e_11e9_bc75_74de2bc4e4cbrow6_col5 {\n",
       "            color:  blue;\n",
       "        }    #T_0cdb19a2_c93e_11e9_bc75_74de2bc4e4cbrow6_col6 {\n",
       "            color:  black;\n",
       "        }    #T_0cdb19a2_c93e_11e9_bc75_74de2bc4e4cbrow6_col7 {\n",
       "            color:  black;\n",
       "        }    #T_0cdb19a2_c93e_11e9_bc75_74de2bc4e4cbrow6_col8 {\n",
       "            color:  blue;\n",
       "        }    #T_0cdb19a2_c93e_11e9_bc75_74de2bc4e4cbrow7_col0 {\n",
       "            color:  black;\n",
       "        }    #T_0cdb19a2_c93e_11e9_bc75_74de2bc4e4cbrow7_col1 {\n",
       "            color:  black;\n",
       "        }    #T_0cdb19a2_c93e_11e9_bc75_74de2bc4e4cbrow7_col2 {\n",
       "            color:  blue;\n",
       "        }    #T_0cdb19a2_c93e_11e9_bc75_74de2bc4e4cbrow7_col3 {\n",
       "            color:  black;\n",
       "        }    #T_0cdb19a2_c93e_11e9_bc75_74de2bc4e4cbrow7_col4 {\n",
       "            color:  black;\n",
       "        }    #T_0cdb19a2_c93e_11e9_bc75_74de2bc4e4cbrow7_col5 {\n",
       "            color:  black;\n",
       "        }    #T_0cdb19a2_c93e_11e9_bc75_74de2bc4e4cbrow7_col6 {\n",
       "            color:  black;\n",
       "        }    #T_0cdb19a2_c93e_11e9_bc75_74de2bc4e4cbrow7_col7 {\n",
       "            color:  black;\n",
       "        }    #T_0cdb19a2_c93e_11e9_bc75_74de2bc4e4cbrow7_col8 {\n",
       "            color:  black;\n",
       "        }    #T_0cdb19a2_c93e_11e9_bc75_74de2bc4e4cbrow8_col0 {\n",
       "            color:  black;\n",
       "        }    #T_0cdb19a2_c93e_11e9_bc75_74de2bc4e4cbrow8_col1 {\n",
       "            color:  black;\n",
       "        }    #T_0cdb19a2_c93e_11e9_bc75_74de2bc4e4cbrow8_col2 {\n",
       "            color:  black;\n",
       "        }    #T_0cdb19a2_c93e_11e9_bc75_74de2bc4e4cbrow8_col3 {\n",
       "            color:  black;\n",
       "        }    #T_0cdb19a2_c93e_11e9_bc75_74de2bc4e4cbrow8_col4 {\n",
       "            color:  blue;\n",
       "        }    #T_0cdb19a2_c93e_11e9_bc75_74de2bc4e4cbrow8_col5 {\n",
       "            color:  blue;\n",
       "        }    #T_0cdb19a2_c93e_11e9_bc75_74de2bc4e4cbrow8_col6 {\n",
       "            color:  blue;\n",
       "        }    #T_0cdb19a2_c93e_11e9_bc75_74de2bc4e4cbrow8_col7 {\n",
       "            color:  black;\n",
       "        }    #T_0cdb19a2_c93e_11e9_bc75_74de2bc4e4cbrow8_col8 {\n",
       "            color:  black;\n",
       "        }</style>  \n",
       "<table id=\"T_0cdb19a2_c93e_11e9_bc75_74de2bc4e4cb\" > \n",
       "<thead>    <tr> \n",
       "        <th class=\"blank level0\" ></th> \n",
       "        <th class=\"col_heading level0 col0\" >PassengerId</th> \n",
       "        <th class=\"col_heading level0 col1\" >Survived</th> \n",
       "        <th class=\"col_heading level0 col2\" >Pclass</th> \n",
       "        <th class=\"col_heading level0 col3\" >Sex</th> \n",
       "        <th class=\"col_heading level0 col4\" >Age</th> \n",
       "        <th class=\"col_heading level0 col5\" >SibSp</th> \n",
       "        <th class=\"col_heading level0 col6\" >Parch</th> \n",
       "        <th class=\"col_heading level0 col7\" >Fare</th> \n",
       "        <th class=\"col_heading level0 col8\" >Kerabat</th> \n",
       "    </tr></thead> \n",
       "<tbody>    <tr> \n",
       "        <th id=\"T_0cdb19a2_c93e_11e9_bc75_74de2bc4e4cblevel0_row0\" class=\"row_heading level0 row0\" >PassengerId</th> \n",
       "        <td id=\"T_0cdb19a2_c93e_11e9_bc75_74de2bc4e4cbrow0_col0\" class=\"data row0 col0\" >1</td> \n",
       "        <td id=\"T_0cdb19a2_c93e_11e9_bc75_74de2bc4e4cbrow0_col1\" class=\"data row0 col1\" >-0.005</td> \n",
       "        <td id=\"T_0cdb19a2_c93e_11e9_bc75_74de2bc4e4cbrow0_col2\" class=\"data row0 col2\" >-0.035</td> \n",
       "        <td id=\"T_0cdb19a2_c93e_11e9_bc75_74de2bc4e4cbrow0_col3\" class=\"data row0 col3\" >0.043</td> \n",
       "        <td id=\"T_0cdb19a2_c93e_11e9_bc75_74de2bc4e4cbrow0_col4\" class=\"data row0 col4\" >0.037</td> \n",
       "        <td id=\"T_0cdb19a2_c93e_11e9_bc75_74de2bc4e4cbrow0_col5\" class=\"data row0 col5\" >-0.058</td> \n",
       "        <td id=\"T_0cdb19a2_c93e_11e9_bc75_74de2bc4e4cbrow0_col6\" class=\"data row0 col6\" >-0.002</td> \n",
       "        <td id=\"T_0cdb19a2_c93e_11e9_bc75_74de2bc4e4cbrow0_col7\" class=\"data row0 col7\" >0.013</td> \n",
       "        <td id=\"T_0cdb19a2_c93e_11e9_bc75_74de2bc4e4cbrow0_col8\" class=\"data row0 col8\" >-0.04</td> \n",
       "    </tr>    <tr> \n",
       "        <th id=\"T_0cdb19a2_c93e_11e9_bc75_74de2bc4e4cblevel0_row1\" class=\"row_heading level0 row1\" >Survived</th> \n",
       "        <td id=\"T_0cdb19a2_c93e_11e9_bc75_74de2bc4e4cbrow1_col0\" class=\"data row1 col0\" >-0.005</td> \n",
       "        <td id=\"T_0cdb19a2_c93e_11e9_bc75_74de2bc4e4cbrow1_col1\" class=\"data row1 col1\" >1</td> \n",
       "        <td id=\"T_0cdb19a2_c93e_11e9_bc75_74de2bc4e4cbrow1_col2\" class=\"data row1 col2\" >-0.338</td> \n",
       "        <td id=\"T_0cdb19a2_c93e_11e9_bc75_74de2bc4e4cbrow1_col3\" class=\"data row1 col3\" >-0.543</td> \n",
       "        <td id=\"T_0cdb19a2_c93e_11e9_bc75_74de2bc4e4cbrow1_col4\" class=\"data row1 col4\" >-0.077</td> \n",
       "        <td id=\"T_0cdb19a2_c93e_11e9_bc75_74de2bc4e4cbrow1_col5\" class=\"data row1 col5\" >-0.035</td> \n",
       "        <td id=\"T_0cdb19a2_c93e_11e9_bc75_74de2bc4e4cbrow1_col6\" class=\"data row1 col6\" >0.082</td> \n",
       "        <td id=\"T_0cdb19a2_c93e_11e9_bc75_74de2bc4e4cbrow1_col7\" class=\"data row1 col7\" >0.257</td> \n",
       "        <td id=\"T_0cdb19a2_c93e_11e9_bc75_74de2bc4e4cbrow1_col8\" class=\"data row1 col8\" >0.017</td> \n",
       "    </tr>    <tr> \n",
       "        <th id=\"T_0cdb19a2_c93e_11e9_bc75_74de2bc4e4cblevel0_row2\" class=\"row_heading level0 row2\" >Pclass</th> \n",
       "        <td id=\"T_0cdb19a2_c93e_11e9_bc75_74de2bc4e4cbrow2_col0\" class=\"data row2 col0\" >-0.035</td> \n",
       "        <td id=\"T_0cdb19a2_c93e_11e9_bc75_74de2bc4e4cbrow2_col1\" class=\"data row2 col1\" >-0.338</td> \n",
       "        <td id=\"T_0cdb19a2_c93e_11e9_bc75_74de2bc4e4cbrow2_col2\" class=\"data row2 col2\" >1</td> \n",
       "        <td id=\"T_0cdb19a2_c93e_11e9_bc75_74de2bc4e4cbrow2_col3\" class=\"data row2 col3\" >0.132</td> \n",
       "        <td id=\"T_0cdb19a2_c93e_11e9_bc75_74de2bc4e4cbrow2_col4\" class=\"data row2 col4\" >-0.369</td> \n",
       "        <td id=\"T_0cdb19a2_c93e_11e9_bc75_74de2bc4e4cbrow2_col5\" class=\"data row2 col5\" >0.083</td> \n",
       "        <td id=\"T_0cdb19a2_c93e_11e9_bc75_74de2bc4e4cbrow2_col6\" class=\"data row2 col6\" >0.018</td> \n",
       "        <td id=\"T_0cdb19a2_c93e_11e9_bc75_74de2bc4e4cbrow2_col7\" class=\"data row2 col7\" >-0.549</td> \n",
       "        <td id=\"T_0cdb19a2_c93e_11e9_bc75_74de2bc4e4cbrow2_col8\" class=\"data row2 col8\" >0.066</td> \n",
       "    </tr>    <tr> \n",
       "        <th id=\"T_0cdb19a2_c93e_11e9_bc75_74de2bc4e4cblevel0_row3\" class=\"row_heading level0 row3\" >Sex</th> \n",
       "        <td id=\"T_0cdb19a2_c93e_11e9_bc75_74de2bc4e4cbrow3_col0\" class=\"data row3 col0\" >0.043</td> \n",
       "        <td id=\"T_0cdb19a2_c93e_11e9_bc75_74de2bc4e4cbrow3_col1\" class=\"data row3 col1\" >-0.543</td> \n",
       "        <td id=\"T_0cdb19a2_c93e_11e9_bc75_74de2bc4e4cbrow3_col2\" class=\"data row3 col2\" >0.132</td> \n",
       "        <td id=\"T_0cdb19a2_c93e_11e9_bc75_74de2bc4e4cbrow3_col3\" class=\"data row3 col3\" >1</td> \n",
       "        <td id=\"T_0cdb19a2_c93e_11e9_bc75_74de2bc4e4cbrow3_col4\" class=\"data row3 col4\" >0.093</td> \n",
       "        <td id=\"T_0cdb19a2_c93e_11e9_bc75_74de2bc4e4cbrow3_col5\" class=\"data row3 col5\" >-0.115</td> \n",
       "        <td id=\"T_0cdb19a2_c93e_11e9_bc75_74de2bc4e4cbrow3_col6\" class=\"data row3 col6\" >-0.245</td> \n",
       "        <td id=\"T_0cdb19a2_c93e_11e9_bc75_74de2bc4e4cbrow3_col7\" class=\"data row3 col7\" >-0.182</td> \n",
       "        <td id=\"T_0cdb19a2_c93e_11e9_bc75_74de2bc4e4cbrow3_col8\" class=\"data row3 col8\" >-0.201</td> \n",
       "    </tr>    <tr> \n",
       "        <th id=\"T_0cdb19a2_c93e_11e9_bc75_74de2bc4e4cblevel0_row4\" class=\"row_heading level0 row4\" >Age</th> \n",
       "        <td id=\"T_0cdb19a2_c93e_11e9_bc75_74de2bc4e4cbrow4_col0\" class=\"data row4 col0\" >0.037</td> \n",
       "        <td id=\"T_0cdb19a2_c93e_11e9_bc75_74de2bc4e4cbrow4_col1\" class=\"data row4 col1\" >-0.077</td> \n",
       "        <td id=\"T_0cdb19a2_c93e_11e9_bc75_74de2bc4e4cbrow4_col2\" class=\"data row4 col2\" >-0.369</td> \n",
       "        <td id=\"T_0cdb19a2_c93e_11e9_bc75_74de2bc4e4cbrow4_col3\" class=\"data row4 col3\" >0.093</td> \n",
       "        <td id=\"T_0cdb19a2_c93e_11e9_bc75_74de2bc4e4cbrow4_col4\" class=\"data row4 col4\" >1</td> \n",
       "        <td id=\"T_0cdb19a2_c93e_11e9_bc75_74de2bc4e4cbrow4_col5\" class=\"data row4 col5\" >-0.308</td> \n",
       "        <td id=\"T_0cdb19a2_c93e_11e9_bc75_74de2bc4e4cbrow4_col6\" class=\"data row4 col6\" >-0.189</td> \n",
       "        <td id=\"T_0cdb19a2_c93e_11e9_bc75_74de2bc4e4cbrow4_col7\" class=\"data row4 col7\" >0.096</td> \n",
       "        <td id=\"T_0cdb19a2_c93e_11e9_bc75_74de2bc4e4cbrow4_col8\" class=\"data row4 col8\" >-0.302</td> \n",
       "    </tr>    <tr> \n",
       "        <th id=\"T_0cdb19a2_c93e_11e9_bc75_74de2bc4e4cblevel0_row5\" class=\"row_heading level0 row5\" >SibSp</th> \n",
       "        <td id=\"T_0cdb19a2_c93e_11e9_bc75_74de2bc4e4cbrow5_col0\" class=\"data row5 col0\" >-0.058</td> \n",
       "        <td id=\"T_0cdb19a2_c93e_11e9_bc75_74de2bc4e4cbrow5_col1\" class=\"data row5 col1\" >-0.035</td> \n",
       "        <td id=\"T_0cdb19a2_c93e_11e9_bc75_74de2bc4e4cbrow5_col2\" class=\"data row5 col2\" >0.083</td> \n",
       "        <td id=\"T_0cdb19a2_c93e_11e9_bc75_74de2bc4e4cbrow5_col3\" class=\"data row5 col3\" >-0.115</td> \n",
       "        <td id=\"T_0cdb19a2_c93e_11e9_bc75_74de2bc4e4cbrow5_col4\" class=\"data row5 col4\" >-0.308</td> \n",
       "        <td id=\"T_0cdb19a2_c93e_11e9_bc75_74de2bc4e4cbrow5_col5\" class=\"data row5 col5\" >1</td> \n",
       "        <td id=\"T_0cdb19a2_c93e_11e9_bc75_74de2bc4e4cbrow5_col6\" class=\"data row5 col6\" >0.415</td> \n",
       "        <td id=\"T_0cdb19a2_c93e_11e9_bc75_74de2bc4e4cbrow5_col7\" class=\"data row5 col7\" >0.16</td> \n",
       "        <td id=\"T_0cdb19a2_c93e_11e9_bc75_74de2bc4e4cbrow5_col8\" class=\"data row5 col8\" >0.891</td> \n",
       "    </tr>    <tr> \n",
       "        <th id=\"T_0cdb19a2_c93e_11e9_bc75_74de2bc4e4cblevel0_row6\" class=\"row_heading level0 row6\" >Parch</th> \n",
       "        <td id=\"T_0cdb19a2_c93e_11e9_bc75_74de2bc4e4cbrow6_col0\" class=\"data row6 col0\" >-0.002</td> \n",
       "        <td id=\"T_0cdb19a2_c93e_11e9_bc75_74de2bc4e4cbrow6_col1\" class=\"data row6 col1\" >0.082</td> \n",
       "        <td id=\"T_0cdb19a2_c93e_11e9_bc75_74de2bc4e4cbrow6_col2\" class=\"data row6 col2\" >0.018</td> \n",
       "        <td id=\"T_0cdb19a2_c93e_11e9_bc75_74de2bc4e4cbrow6_col3\" class=\"data row6 col3\" >-0.245</td> \n",
       "        <td id=\"T_0cdb19a2_c93e_11e9_bc75_74de2bc4e4cbrow6_col4\" class=\"data row6 col4\" >-0.189</td> \n",
       "        <td id=\"T_0cdb19a2_c93e_11e9_bc75_74de2bc4e4cbrow6_col5\" class=\"data row6 col5\" >0.415</td> \n",
       "        <td id=\"T_0cdb19a2_c93e_11e9_bc75_74de2bc4e4cbrow6_col6\" class=\"data row6 col6\" >1</td> \n",
       "        <td id=\"T_0cdb19a2_c93e_11e9_bc75_74de2bc4e4cbrow6_col7\" class=\"data row6 col7\" >0.216</td> \n",
       "        <td id=\"T_0cdb19a2_c93e_11e9_bc75_74de2bc4e4cbrow6_col8\" class=\"data row6 col8\" >0.783</td> \n",
       "    </tr>    <tr> \n",
       "        <th id=\"T_0cdb19a2_c93e_11e9_bc75_74de2bc4e4cblevel0_row7\" class=\"row_heading level0 row7\" >Fare</th> \n",
       "        <td id=\"T_0cdb19a2_c93e_11e9_bc75_74de2bc4e4cbrow7_col0\" class=\"data row7 col0\" >0.013</td> \n",
       "        <td id=\"T_0cdb19a2_c93e_11e9_bc75_74de2bc4e4cbrow7_col1\" class=\"data row7 col1\" >0.257</td> \n",
       "        <td id=\"T_0cdb19a2_c93e_11e9_bc75_74de2bc4e4cbrow7_col2\" class=\"data row7 col2\" >-0.549</td> \n",
       "        <td id=\"T_0cdb19a2_c93e_11e9_bc75_74de2bc4e4cbrow7_col3\" class=\"data row7 col3\" >-0.182</td> \n",
       "        <td id=\"T_0cdb19a2_c93e_11e9_bc75_74de2bc4e4cbrow7_col4\" class=\"data row7 col4\" >0.096</td> \n",
       "        <td id=\"T_0cdb19a2_c93e_11e9_bc75_74de2bc4e4cbrow7_col5\" class=\"data row7 col5\" >0.16</td> \n",
       "        <td id=\"T_0cdb19a2_c93e_11e9_bc75_74de2bc4e4cbrow7_col6\" class=\"data row7 col6\" >0.216</td> \n",
       "        <td id=\"T_0cdb19a2_c93e_11e9_bc75_74de2bc4e4cbrow7_col7\" class=\"data row7 col7\" >1</td> \n",
       "        <td id=\"T_0cdb19a2_c93e_11e9_bc75_74de2bc4e4cbrow7_col8\" class=\"data row7 col8\" >0.217</td> \n",
       "    </tr>    <tr> \n",
       "        <th id=\"T_0cdb19a2_c93e_11e9_bc75_74de2bc4e4cblevel0_row8\" class=\"row_heading level0 row8\" >Kerabat</th> \n",
       "        <td id=\"T_0cdb19a2_c93e_11e9_bc75_74de2bc4e4cbrow8_col0\" class=\"data row8 col0\" >-0.04</td> \n",
       "        <td id=\"T_0cdb19a2_c93e_11e9_bc75_74de2bc4e4cbrow8_col1\" class=\"data row8 col1\" >0.017</td> \n",
       "        <td id=\"T_0cdb19a2_c93e_11e9_bc75_74de2bc4e4cbrow8_col2\" class=\"data row8 col2\" >0.066</td> \n",
       "        <td id=\"T_0cdb19a2_c93e_11e9_bc75_74de2bc4e4cbrow8_col3\" class=\"data row8 col3\" >-0.201</td> \n",
       "        <td id=\"T_0cdb19a2_c93e_11e9_bc75_74de2bc4e4cbrow8_col4\" class=\"data row8 col4\" >-0.302</td> \n",
       "        <td id=\"T_0cdb19a2_c93e_11e9_bc75_74de2bc4e4cbrow8_col5\" class=\"data row8 col5\" >0.891</td> \n",
       "        <td id=\"T_0cdb19a2_c93e_11e9_bc75_74de2bc4e4cbrow8_col6\" class=\"data row8 col6\" >0.783</td> \n",
       "        <td id=\"T_0cdb19a2_c93e_11e9_bc75_74de2bc4e4cbrow8_col7\" class=\"data row8 col7\" >0.217</td> \n",
       "        <td id=\"T_0cdb19a2_c93e_11e9_bc75_74de2bc4e4cbrow8_col8\" class=\"data row8 col8\" >1</td> \n",
       "    </tr></tbody> \n",
       "</table> "
      ],
      "text/plain": [
       "<pandas.io.formats.style.Styler at 0xa0f2968c>"
      ]
     },
     "execution_count": 46,
     "metadata": {},
     "output_type": "execute_result"
    }
   ],
   "source": [
    "s = corr.style.applymap(color_corr)\n",
    "s"
   ]
  },
  {
   "cell_type": "code",
   "execution_count": 47,
   "metadata": {},
   "outputs": [],
   "source": [
    "# Temuan dari analisis sebelumnya diperkuat oleh matrix korelasi di atas.\n",
    "# Terlihat bahwa yang berkorelasi linear (negatif) cukup kuat (di atas 0.3) terhadap kolom Survived\n",
    "# hanya kolom Pclass dan Sex, masing-masing dengan nilai korelasi -0.3 dan -0.5"
   ]
  },
  {
   "cell_type": "code",
   "execution_count": 48,
   "metadata": {},
   "outputs": [
    {
     "data": {
      "text/plain": [
       "<matplotlib.axes._subplots.AxesSubplot at 0xa0ac948c>"
      ]
     },
     "execution_count": 48,
     "metadata": {},
     "output_type": "execute_result"
    },
    {
     "data": {
      "image/png": "[encoded data removed]",
      "text/plain": [
       "<Figure size 432x288 with 2 Axes>"
      ]
     },
     "metadata": {},
     "output_type": "display_data"
    }
   ],
   "source": [
    "# heatmap matrix korelasi linear\n",
    "sns.heatmap(corr, xticklabels=corr.columns, yticklabels=corr.columns, cmap=sns.diverging_palette(220, 10, as_cmap=True))"
   ]
  },
  {
   "cell_type": "code",
   "execution_count": null,
   "metadata": {},
   "outputs": [],
   "source": []
  }
 ],
 "metadata": {
  "kernelspec": {
   "display_name": "Python 3",
   "language": "python",
   "name": "python3"
  },
  "language_info": {
   "codemirror_mode": {
    "name": "ipython",
    "version": 3
   },
   "file_extension": ".py",
   "mimetype": "text/x-python",
   "name": "python",
   "nbconvert_exporter": "python",
   "pygments_lexer": "ipython3",
   "version": "3.4.3"
  }
 },
 "nbformat": 4,
 "nbformat_minor": 1
}
